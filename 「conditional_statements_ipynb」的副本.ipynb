{
  "nbformat": 4,
  "nbformat_minor": 0,
  "metadata": {
    "colab": {
      "provenance": []
    },
    "kernelspec": {
      "name": "python3",
      "display_name": "Python 3"
    },
    "language_info": {
      "name": "python"
    }
  },
  "cells": [
    {
      "cell_type": "markdown",
      "source": [
        "### **Introduction to Conditional Statements**\n",
        "\n",
        "Conditional statements allow a program to evaluate specific conditions and make decisions based on those conditions. They introduce the concept of branching, where a program can follow different paths of execution based on certain criteria.\n",
        "\n",
        "---\n",
        "\n",
        "### **Understanding if, elif, and else Statements**\n",
        "\n",
        "**1. `if` Statement:**\n",
        "- The most basic type of conditional statement.\n",
        "- Evaluates a condition, and if it's `True`, the code inside the `if` block is executed.\n",
        "\n",
        "  **Example:**\n",
        "  ```python\n",
        "  age = 20\n",
        "  if age >= 18:\n",
        "      print(\"You are an adult!\")\n",
        "  ```\n",
        "\n",
        "**2. `elif` Statement:**\n",
        "- Short for \"else if\".\n",
        "- Used to check multiple conditions after the initial `if` condition.\n",
        "- The `elif` block is executed if its condition is `True`.\n",
        "\n",
        "  **Example:**\n",
        "  ```python\n",
        "  score = 85\n",
        "  if score >= 90:\n",
        "      grade = \"A\"\n",
        "  elif score >= 80:\n",
        "      grade = \"B\"\n",
        "  ```\n",
        "\n",
        "**3. `else` Statement:**\n",
        "- Catches anything which isn't caught by the preceding conditions.\n",
        "- Does not have a condition attached to it.\n",
        "\n",
        "  **Example:**\n",
        "  ```python\n",
        "  age = 15\n",
        "  if age >= 18:\n",
        "      print(\"You are an adult!\")\n",
        "  else:\n",
        "      print(\"You are a minor!\")\n",
        "  ```\n",
        "\n",
        "---\n",
        "\n",
        "### **Writing Conditions Using Comparison Operators**\n",
        "\n",
        "**1. `==`:** Checks if two values are equal.\n",
        "  - **Example:** `x == y`\n",
        "\n",
        "**2. `!=`:** Checks if two values are not equal.\n",
        "  - **Example:** `x != y`\n",
        "\n",
        "**3. `>`:** Checks if the value on the left is greater than the one on the right.\n",
        "  - **Example:** `x > y`\n",
        "\n",
        "**4. `<`:** Checks if the value on the left is less than the one on the right.\n",
        "  - **Example:** `x < y`\n",
        "\n",
        "**5. `>=`:** Checks if the value on the left is greater than or equal to the one on the right.\n",
        "  - **Example:** `x >= y`\n",
        "\n",
        "**6. `<=`:** Checks if the value on the left is less than or equal to the one on the right.\n",
        "  - **Example:** `x <= y`\n",
        "\n",
        "---\n"
      ],
      "metadata": {
        "id": "CjxdWcqxPhy0"
      }
    },
    {
      "cell_type": "markdown",
      "source": [
        "\n",
        "### **Practice Exercises:**\n",
        "\n",
        "1. **Weekday or Weekend:**\n",
        "    - Ask the user to input a day of the week (e.g., Monday, Tuesday, etc.).\n",
        "    - Inform them if the day is a weekday or a weekend.\n",
        "\n"
      ],
      "metadata": {
        "id": "Jim4Rsi7Pn0G"
      }
    },
    {
      "cell_type": "code",
      "source": [
        "day=input(\"type a day of the week\")\n",
        "\n",
        "weekday=[\"monday\",\"tuesday\",\"wednesday\",\"thursday\",\"friday\"]\n",
        "weekend=[\"saturay\",\"sunday\"]\n",
        "\n",
        "if day in weekday:\n",
        "  print(\"it is weekday\")\n",
        "\n",
        "elif day in weekend:\n",
        "  print(\"it is weekend\")"
      ],
      "metadata": {
        "id": "TkrdpDJXRKeJ",
        "colab": {
          "base_uri": "https://localhost:8080/"
        },
        "outputId": "4991cb5d-84b0-489c-cfd9-3a5615fd19ab"
      },
      "execution_count": null,
      "outputs": [
        {
          "output_type": "stream",
          "name": "stdout",
          "text": [
            "type a day of the weeksunday\n",
            "it is weekend\n"
          ]
        }
      ]
    },
    {
      "cell_type": "markdown",
      "source": [
        "2. **Password Strength Checker:**\n",
        "    - Ask the user to input a password.\n",
        "    - Check if the password has at least 8 characters, starts with an uppercase letter, and ends with a number. Provide feedback on its strength.\n"
      ],
      "metadata": {
        "id": "1JPiLpsURKzz"
      }
    },
    {
      "cell_type": "code",
      "source": [
        "user_password=input(\"enter your password\")\n",
        "\n",
        "if not len(user_password) < 8:\n",
        "  print(\"your password is not enough strong, at least 8 character\")\n",
        "elif not user_password[-1].upper():\n",
        "  print(\"your password should start with uppercase letter\")\n",
        "elif not user_password.isdigit():\n",
        "  print(\"your password should end with number\")\n",
        "elif len(user_password) > 8 and user_password[-1] and user_password.isdigit():\n",
        "  print(\"good password\")\n",
        "\n",
        "\n",
        "\n",
        "\n"
      ],
      "metadata": {
        "id": "sHB4UhrHRMy5",
        "colab": {
          "base_uri": "https://localhost:8080/"
        },
        "outputId": "c8d624b8-4fa0-44f5-f6f4-5533f94390ea"
      },
      "execution_count": 14,
      "outputs": [
        {
          "output_type": "stream",
          "name": "stdout",
          "text": [
            "enter your passwordJeff\n",
            "your password should end with number\n"
          ]
        }
      ]
    },
    {
      "cell_type": "markdown",
      "source": [
        "3. **Movie Ticket Pricing:**\n",
        "    - Movie theaters often have different pricing depending on age groups.\n",
        "    - Children under 12: $5, Teens (12-17): $7, Adults (18-59): $10, Seniors (60+): $6.\n",
        "    - Ask the user for their age and tell them the cost of a movie ticket.\n"
      ],
      "metadata": {
        "id": "QABbfxrVRNfo"
      }
    },
    {
      "cell_type": "code",
      "source": [
        "your_age=int(input(\"what is your age\"))\n",
        "\n",
        "if your_age <= 12:\n",
        "  print(\"pay 5$\")\n",
        "elif your_age <=17:\n",
        "  print(\"pay 7$\")\n",
        "elif your_age <=59:\n",
        "  print(\"pay 10$\")\n",
        "else:\n",
        "  print(\"pay 6$\")"
      ],
      "metadata": {
        "id": "-i4B1AYyRPGp",
        "colab": {
          "base_uri": "https://localhost:8080/"
        },
        "outputId": "163d57c3-45f8-485b-f745-f06934b21bfa"
      },
      "execution_count": 8,
      "outputs": [
        {
          "output_type": "stream",
          "name": "stdout",
          "text": [
            "what is your age16\n",
            "pay 7$\n"
          ]
        }
      ]
    },
    {
      "cell_type": "markdown",
      "source": [
        "4. **Tax Calculator:**\n",
        "    - Depending on the amount of income, people are taxed at different rates.\n",
        "    - Income up to $10,000: No tax, Income $10,001-$50,000: 10% tax, Income $50,001 and above: 20% tax.\n",
        "    - Ask the user for their income and calculate the tax they owe.\n",
        "\n"
      ],
      "metadata": {
        "id": "4RMhCDsXRPTO"
      }
    },
    {
      "cell_type": "code",
      "source": [
        "your_income=float(input(\"what is your income\"))\n",
        "\n",
        "if your_income <= 10000:\n",
        "  print(\"no tax\")\n",
        "elif your_income <= 50000:\n",
        "  print(\"10% tax, $\", your_income*0.1)\n",
        "elif your_income > 500001:\n",
        "  print(\"20% tax, $\", your_income*0.2)"
      ],
      "metadata": {
        "id": "ijEDRr8FRSm0"
      },
      "execution_count": null,
      "outputs": []
    },
    {
      "cell_type": "markdown",
      "source": [
        "5. **Discount Eligibility:**\n",
        "    - A store offers a discount to students and senior citizens.\n",
        "    - Ask the user if they are a student or a senior citizen (yes or no for each). If they answer \"yes\" to either, inform them they are eligible for a discount.\n",
        "\n"
      ],
      "metadata": {
        "id": "qonCcp_PRTDL"
      }
    },
    {
      "cell_type": "code",
      "source": [
        "student=input(\"are you a student? (yes or no)\")\n",
        "senior=input(\"are you a senior citizen (yes or no)\")\n",
        "\n",
        "if student==\"yes\" or senior==\"yes\":\n",
        "  print(\"you can use the discount\")\n",
        "else:\n",
        "  print(\"you are eligible for a discount\")"
      ],
      "metadata": {
        "id": "5YBnUfs-RUku"
      },
      "execution_count": null,
      "outputs": []
    },
    {
      "cell_type": "markdown",
      "source": [
        "6. **Shipping Cost Calculator:**\n",
        "    - Shipping costs vary based on the weight of a package.\n",
        "    - Weight up to 1kg: $5, Weight 1.1kg-5kg: $10, Weight above 5kg: $20.\n",
        "    - Ask the user for the weight of their package and tell them the shipping cost.\n",
        "\n"
      ],
      "metadata": {
        "id": "vSf3pJOFRVGk"
      }
    },
    {
      "cell_type": "code",
      "source": [
        "user_package=float(input(\"weight of your package\"))\n",
        "\n",
        "if user_package <= 1:\n",
        "  print(\"pay 5$\")\n",
        "elif user_package <= 5:\n",
        "  print(\"pay 10$\")\n",
        "else:\n",
        "  print(\"pay 20$\")"
      ],
      "metadata": {
        "id": "1roU2zvFRWbR",
        "colab": {
          "base_uri": "https://localhost:8080/"
        },
        "outputId": "10bed1e5-7da8-444d-e58a-c2a0b8e8af34"
      },
      "execution_count": 1,
      "outputs": [
        {
          "output_type": "stream",
          "name": "stdout",
          "text": [
            "weight of your package5\n",
            "pay 10$\n"
          ]
        }
      ]
    },
    {
      "cell_type": "markdown",
      "source": [
        "7. **Drink Selector:**\n",
        "    - Ask the user for their age.\n",
        "    - If they are under 18, suggest a non-alcoholic drink (like juice or soda). If they are 18 and above, suggest an alcoholic beverage (like wine or beer)."
      ],
      "metadata": {
        "id": "WXtyKwyYRWzS"
      }
    },
    {
      "cell_type": "code",
      "source": [
        "user_age=int(input(\"how old are you\"))\n",
        "\n",
        "if user_age > 18:\n",
        "  print(\"do you want wine or beer\")\n",
        "\n",
        "else:\n",
        "  print(\"do you want juice or soda\")"
      ],
      "metadata": {
        "id": "iG4YUGa5RXeM",
        "colab": {
          "base_uri": "https://localhost:8080/"
        },
        "outputId": "999f0eac-6f76-4737-da8a-35e06ecbcb3e"
      },
      "execution_count": 5,
      "outputs": [
        {
          "output_type": "stream",
          "name": "stdout",
          "text": [
            "how old are you17\n",
            "do you want juice or soda\n"
          ]
        }
      ]
    }
  ]
}