{
  "nbformat": 4,
  "nbformat_minor": 0,
  "metadata": {
    "colab": {
      "provenance": []
    },
    "kernelspec": {
      "name": "python3",
      "display_name": "Python 3"
    },
    "language_info": {
      "name": "python"
    }
  },
  "cells": [
    {
      "cell_type": "markdown",
      "source": [
        "\n",
        "### **Data Types Introduction**\n",
        "\n",
        "- **What are Data Types?**\n",
        "    - In computer science, a data type is a classification that specifies which type of value a variable can hold. Think of it as a label for the kind of data (e.g., numbers, texts, true/false values) we're dealing with.\n",
        "    - For instance, if we label something as a 'text' type, it means the variable will hold textual information like names, addresses, etc.\n",
        "\n",
        "#### **Why Do We Need Different Data Types?**\n",
        "1. **Efficiency:** Different data types use different amounts of memory. By choosing the right data type, we ensure our programs run efficiently.\n",
        "2. **Precision:** Some tasks require precision. For instance, financial calculations might need decimal values instead of whole numbers.\n",
        "3. **Clarity:** Using the right data type makes the code more readable and understandable.\n",
        "4. **Error Prevention:** Certain operations are only valid for specific data types. Having the right type can prevent errors. For example, you wouldn't want to accidentally add someone's name to their age.\n",
        "\n",
        "---\n",
        "\n",
        "### **Integers and Floats**\n",
        "\n",
        "#### **Definition and Examples of Integers and Floats**\n",
        "- **Integers:**\n",
        "    - These are whole numbers that can be positive, negative, or zero. They do not have decimal points.\n",
        "    - Examples: -3, -2, -1, 0, 1, 2, 3, ...\n",
        "- **Floats:**\n",
        "    - Also known as floating-point numbers, these are numbers that have a decimal point.\n",
        "    - They can represent real numbers (both rational and irrational numbers).\n",
        "    - Examples: -3.5, 0.0, 2.71, 3.14, ...\n",
        "\n",
        "#### **The Difference Between the Two**\n",
        "1. **Representation:** Integers are whole numbers without a decimal point, while floats have a decimal point.\n",
        "2. **Memory:** Floats typically require more memory than integers due to the precision they carry.\n",
        "3. **Operations:** Some operations might yield different results. For instance, dividing two integers might truncate the result, whereas dividing two floats will retain the decimal portion.\n",
        "\n",
        "#### **Practice: Create Variables of Integer and Float Types and Perform Basic Arithmetic Operations**\n",
        "1. **Creating Variables:**\n",
        "```python\n",
        "int_variable = 5\n",
        "float_variable = 5.5\n",
        "```\n",
        "2. **Arithmetic Operations:**\n",
        "    - **Addition:** `int_variable + 3` will result in `8`, but `float_variable + 3` will result in `8.5`.\n",
        "    - **Division:** `int_variable / 2` might differ in some languages in its result compared to `float_variable / 2`. In Python 3, both will return a float, but in some languages, integer division truncates the result.\n",
        "    - **Multiplication:** `int_variable * 2` will result in `10`, and `float_variable * 2` will result in `11.0`.\n",
        "\n",
        "3. **Experimentation:** Create your own integer and float variables and experiment with various arithmetic operations to observe the outcomes.\n",
        "\n",
        "---\n"
      ],
      "metadata": {
        "id": "LBu00G47APLR"
      }
    },
    {
      "cell_type": "code",
      "source": [
        "#Experiment with integers and floats in this cell\n",
        "int_variable=5\n",
        "float_variable=5.5\n",
        "\n",
        "int_variable_add=int_variable+3\n",
        "float_variable_add=float_variable+3\n",
        "\n",
        "int_variable_div=int_variable_add/2\n",
        "float_variable_div=float_variable_add/2\n",
        "\n",
        "int_variable_mul=int_variable_div*2\n",
        "float_variable_mul=float_variable_div*2\n",
        "\n",
        "\n",
        "print(\"int_variable\",int_variable)\n",
        "print(\"float_variable\",float_variable)\n",
        "print(\"int_variable_add\",int_variable_add)\n",
        "print(\"float_variable_add\",float_variable_add)\n",
        "print(\"int_variable_div\",int_variable_div)\n",
        "print(\"float_variable_div\",float_variable_div)\n",
        "print(\"int_variable_mul\",int_variable_mul)\n",
        "print(\"float_variable_mul\",float_variable_mul)\n",
        "\n",
        "\n"
      ],
      "metadata": {
        "id": "LCcqz0c-EMxq",
        "colab": {
          "base_uri": "https://localhost:8080/"
        },
        "outputId": "6000d87a-7f10-4f6d-a97c-c19adbac23a6"
      },
      "execution_count": 8,
      "outputs": [
        {
          "output_type": "stream",
          "name": "stdout",
          "text": [
            "int_variable 5\n",
            "float_variable 5.5\n",
            "int_variable_add 8\n",
            "float_variable_add 8.5\n",
            "int_variable_div 4.0\n",
            "float_variable_div 4.25\n",
            "int_variable_mul 8.0\n",
            "float_variable_mul 8.5\n"
          ]
        }
      ]
    },
    {
      "cell_type": "markdown",
      "source": [
        "**1. Coffee Shop Calculator**\n",
        "   \n",
        "**Objective:** Calculate the total cost of items ordered at a coffee shop.\n",
        "\n",
        "- **Instructions:**\n",
        "   - Imagine you're visiting your favorite coffee shop.\n",
        "   - Use the `input()` function to ask the user to specify the number of espressos, lattes, and muffins they'd like to \"buy\". Convert these to integer values.\n",
        "   - Similarly, take user input for the prices of each item and convert these to float values.\n",
        "   - Write a program to calculate and display the total cost.\n",
        "\n",
        "---"
      ],
      "metadata": {
        "id": "bBnOPo9OEAEW"
      }
    },
    {
      "cell_type": "code",
      "source": [
        "#Your code for exercise 1 in here\n",
        "num_espressos=int(input(\"how many espressos would you want to buy\"))\n",
        "num_lattes=int(input(\"how may lattes would you want to buy\"))\n",
        "num_muffins=int(input(\"how many muffins would you like to buy\"))\n",
        "\n",
        "price_per_espressos=int(input(\"the price\"))\n",
        "price_per_lattes=int(input(\"the price\"))\n",
        "price_per_muffins=int(input(\"the price\"))\n",
        "\n",
        "total_cost_espressos=num_espressos*price_per_espressos\n",
        "total_cost_lattes=num_lattes*price_per_lattes\n",
        "total_cost_muffins=num_muffins*price_per_muffins\n",
        "\n",
        "total_cost=total_cost_espressos+total_cost_lattes+total_cost_muffins\n",
        "\n",
        "print(\"total cost for espressos\",total_cost_espressos)\n",
        "print(\"total cost for lattes\",total_cost_lattes)\n",
        "print(\"total cost for muffins\",total_cost_muffins)\n",
        "print(\"total cost\",total_cost)\n",
        "\n",
        "\n"
      ],
      "metadata": {
        "id": "ymdlxypHEeHA",
        "colab": {
          "base_uri": "https://localhost:8080/"
        },
        "outputId": "1666f141-0d79-4c97-ad45-65604df77bfa"
      },
      "execution_count": 13,
      "outputs": [
        {
          "output_type": "stream",
          "name": "stdout",
          "text": [
            "how many espressos would you want to buy3\n",
            "how may lattes would you want to buy4\n",
            "how many muffins would you like to buy2\n",
            "the price5\n",
            "the price4\n",
            "the price5\n",
            "total cost for espressos 15\n",
            "total cost for lattes 16\n",
            "total cost for muffins 10\n",
            "total cost 41\n"
          ]
        }
      ]
    },
    {
      "cell_type": "code",
      "source": [],
      "metadata": {
        "id": "uHi5umyeCOGa"
      },
      "execution_count": null,
      "outputs": []
    },
    {
      "cell_type": "markdown",
      "source": [
        "**2. Rocket Launch Countdown**\n",
        "   \n",
        "**Objective:** Simulate a rocket launch countdown.\n",
        "\n",
        "- **Instructions:**\n",
        "   - Use the `input()` function to ask the user for a starting countdown number and convert it to an integer.\n",
        "   - Write a loop that subtracts 1 from the variable and prints the current countdown number each iteration.\n",
        "   - Add a delay (using time.sleep in Python) of 0.5 seconds between each countdown number.\n",
        "\n",
        "---\n"
      ],
      "metadata": {
        "id": "5cn16bvxEiz5"
      }
    },
    {
      "cell_type": "code",
      "source": [
        "#Your code for exercise 2 in here\n",
        "import time\n",
        "\n",
        "starting_number=int(input(\"type your number:\"))\n",
        "\n",
        "while starting_number>0:\n",
        "  print(starting_number)\n",
        "  starting_number-=1\n",
        "  time.sleep(.5)\n",
        "\n",
        "\n"
      ],
      "metadata": {
        "id": "ys1WJFJWEncP",
        "colab": {
          "base_uri": "https://localhost:8080/"
        },
        "outputId": "6fe90854-609c-4d59-ab92-0a4f9d1c3f36"
      },
      "execution_count": 2,
      "outputs": [
        {
          "output_type": "stream",
          "name": "stdout",
          "text": [
            "type your number:12\n",
            "12\n",
            "11\n",
            "10\n",
            "9\n",
            "8\n",
            "7\n",
            "6\n",
            "5\n",
            "4\n",
            "3\n",
            "2\n",
            "1\n"
          ]
        }
      ]
    },
    {
      "cell_type": "markdown",
      "source": [
        "**3. Your Weight on Other Planets**\n",
        "   \n",
        "**Objective:** Find out how much you'd weigh on different planets based on their gravity.\n",
        "\n",
        "- **Instructions:**\n",
        "   - Use the `input()` function to ask the user for their weight on Earth and convert this to a float.\n",
        "   - Create float variables for the gravity factor of different planets (e.g., Mars is about 0.38 of Earth's gravity).\n",
        "   - Calculate and display how much they'd weigh on each of these planets.\n",
        "\n",
        "---"
      ],
      "metadata": {
        "id": "_4CLsHIKEsGa"
      }
    },
    {
      "cell_type": "code",
      "source": [
        "#Exercise 3\n",
        "\n",
        "a=float(input(\"what is your weight on Earth\"))\n",
        "weight_on_Mars=a*0.38\n",
        "\n",
        "print(\"your weight on Mars\",weight_on_Mars)\n"
      ],
      "metadata": {
        "id": "2CGVY3iiEvR9",
        "colab": {
          "base_uri": "https://localhost:8080/"
        },
        "outputId": "7489d8db-3e81-42da-91a8-ed417617c9d6"
      },
      "execution_count": 3,
      "outputs": [
        {
          "output_type": "stream",
          "name": "stdout",
          "text": [
            "what is your weight on Earth60\n",
            "your weight on Mars 22.8\n"
          ]
        }
      ]
    },
    {
      "cell_type": "markdown",
      "source": [
        "**4. Pizza Party Calculator**\n",
        "   \n",
        "**Objective:** Calculate the cost per slice of pizza.\n",
        "\n",
        "- **Instructions:**\n",
        "   - Use the `input()` function to ask the user how many pizzas they bought and the total cost. Convert these values appropriately (integer for number of pizzas, float for cost).\n",
        "   - Ask the user to specify how many slices each pizza has and convert this to an integer.\n",
        "   - Calculate and display the cost per slice.\n",
        "\n",
        "---"
      ],
      "metadata": {
        "id": "iSGrrgiNExxp"
      }
    },
    {
      "cell_type": "code",
      "source": [
        "#Exercise 4\n",
        "\n",
        "number_of_pizza=int(input(\"type your number:\"))\n",
        "price_per_pizza=float(input(\"the price\"))\n",
        "total_price=number_of_pizza*price_per_pizza\n",
        "slices_of_pizza=int(input(\"the alices\"))\n",
        "cost_per_slics=total_price/slices_of_pizza\n",
        "\n",
        "print(\"how much pizza you want to buy\",number_of_pizza)\n",
        "print(\"how much for a pizza\",price_per_pizza)\n",
        "print(\"total price\",total_price)\n",
        "print(\"how many slices do you want\",slices_of_pizza)\n",
        "print(\"cost for each slice\",cost_per_slics)"
      ],
      "metadata": {
        "id": "QFiXisVwE0ZR",
        "colab": {
          "base_uri": "https://localhost:8080/"
        },
        "outputId": "b5113054-0453-4cf9-a346-e6c44aaf1e16"
      },
      "execution_count": 4,
      "outputs": [
        {
          "output_type": "stream",
          "name": "stdout",
          "text": [
            "type your number:6\n",
            "the price200\n",
            "the alices6\n",
            "how much pizza you want to buy 6\n",
            "how much for a pizza 200.0\n",
            "total price 1200.0\n",
            "how many slices do you want 6\n",
            "cost for each slice 200.0\n"
          ]
        }
      ]
    },
    {
      "cell_type": "markdown",
      "source": [
        "\n",
        "**5. Travel Budget Calculator**\n",
        "   \n",
        "**Objective:** Calculate the total budget required for a trip.\n",
        "\n",
        "- **Instructions:**\n",
        "   - Imagine you're planning a trip to your dream destination.\n",
        "   - Use the `input()` function to ask the user for the number of days they plan to stay and convert this to an integer.\n",
        "   - Ask the user to specify the estimated daily expenses for food, accommodation, and sightseeing. Convert these to float values.\n",
        "   - Write a program to calculate and display the total estimated cost for the trip.\n",
        "\n",
        "---"
      ],
      "metadata": {
        "id": "bgTECsKHE3CF"
      }
    },
    {
      "cell_type": "code",
      "source": [
        "#Exercise 5\n",
        "\n",
        "days_for_trip=int(input(\"how many days do you want for your trip\"))\n",
        "daily_expenses_for_food=float(input(\"how much you want to pay for your food\"))\n",
        "daily_expenses_for_accommodation=float(input(\"how much you want to pay for your accommodation\"))\n",
        "daily_expenses_for_sightseeing=float(input(\"how much you wantto pay for your sightseeing\"))\n",
        "total_cost=days_for_trip*(daily_expenses_for_food+daily_expenses_for_accommodation+daily_expenses_for_sightseeing)\n",
        "\n",
        "print(\"total cost for trip\",total_cost)\n"
      ],
      "metadata": {
        "id": "sT4Q-aYuE4jM",
        "colab": {
          "base_uri": "https://localhost:8080/"
        },
        "outputId": "3a3f5f1e-b6d8-4aa9-91c2-5fd536a26bd6"
      },
      "execution_count": 6,
      "outputs": [
        {
          "output_type": "stream",
          "name": "stdout",
          "text": [
            "how many days do you want for your trip9\n",
            "how much you want to pay for your food50\n",
            "how much you want to pay for your accommodation150\n",
            "how much you wantto pay for your sightseeing70\n",
            "total cost for trip 2430.0\n"
          ]
        }
      ]
    }
  ]
}