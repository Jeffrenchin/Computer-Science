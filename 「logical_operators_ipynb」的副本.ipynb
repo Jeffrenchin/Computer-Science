{
  "nbformat": 4,
  "nbformat_minor": 0,
  "metadata": {
    "colab": {
      "provenance": []
    },
    "kernelspec": {
      "name": "python3",
      "display_name": "Python 3"
    },
    "language_info": {
      "name": "python"
    }
  },
  "cells": [
    {
      "cell_type": "markdown",
      "source": [
        "\n",
        "### **Logical Operators**\n",
        "\n",
        "Logical operators are used to combine conditional statements.\n",
        "\n",
        "**1. `and` Operator:**\n",
        "- Returns `True` if both statements are true.\n",
        "  \n",
        "  **Example:**\n",
        "  ```python\n",
        "  age = 25\n",
        "  if age > 18 and age < 30:\n",
        "      print(\"You are a young adult.\")\n",
        "  ```\n",
        "\n",
        "**2. `or` Operator:**\n",
        "- Returns `True` if at least one of the statements is true.\n",
        "  \n",
        "  **Example:**\n",
        "  ```python\n",
        "  day = \"Sunday\"\n",
        "  if day == \"Saturday\" or day == \"Sunday\":\n",
        "      print(\"It's the weekend!\")\n",
        "  ```\n",
        "\n",
        "**3. `not` Operator:**\n",
        "- Used to reverse the result; returns `False` if the result is true and vice versa.\n",
        "  \n",
        "  **Example:**\n",
        "  ```python\n",
        "  is_raining = False\n",
        "  if not is_raining:\n",
        "      print(\"It's a sunny day!\")\n",
        "  ```\n",
        "\n",
        "---\n",
        "\n",
        "### **Nested Conditional Statements**\n",
        "\n",
        "Sometimes, you may want to evaluate a condition inside another condition. This is referred to as nesting.\n",
        "\n",
        "**Example:**\n",
        "```python\n",
        "age = 25\n",
        "gender = \"Female\"\n",
        "if age < 30:\n",
        "    if gender == \"Female\":\n",
        "        print(\"Young female.\")\n",
        "    else:\n",
        "        print(\"Young male.\")\n",
        "else:\n",
        "    if gender == \"Female\":\n",
        "        print(\"Mature female.\")\n",
        "    else:\n",
        "        print(\"Mature male.\")\n",
        "```\n",
        "\n",
        "In the example above, the outer `if` checks the age, and the inner `if` checks the gender, leading to more precise classifications.\n",
        "\n"
      ],
      "metadata": {
        "id": "_J_0H623DMoG"
      }
    },
    {
      "cell_type": "code",
      "source": [
        "#Test the examples above here"
      ],
      "metadata": {
        "id": "1tzurxbLDYuS"
      },
      "execution_count": null,
      "outputs": []
    },
    {
      "cell_type": "markdown",
      "source": [
        "### **Practice Exercises:**\n",
        "\n",
        "1. **Temperature Alert:**\n",
        "   - Ask the user for the current temperature and if it's raining (yes/no).\n",
        "   - If it's above 30°C and not raining, suggest wearing sunscreen. If it's below 30°C and raining, suggest taking an umbrella.\n",
        "\n",
        "\n",
        "\n"
      ],
      "metadata": {
        "id": "_2pb9LXWDcXE"
      }
    },
    {
      "cell_type": "code",
      "source": [
        "from IPython.core.error import InputRejected\n",
        "#Ex1\n",
        "today_tem=float(input(\"what is the temperature today\"))\n",
        "today_rain=(input(\"it raining outside?\"))\n",
        "\n",
        "if today_tem > 30 and today_rain ==\"yes\":\n",
        "  print(\"I suggest wearing sunscreen\")\n",
        "\n",
        "elif today_tem < 30 and today_rain ==\"no\":\n",
        "  print(\"I suggest taking an umbrella.\")\n",
        "\n",
        "else:\n",
        "  print(\" no suggestion\")\n"
      ],
      "metadata": {
        "id": "AyCFWr2cDiuz",
        "colab": {
          "base_uri": "https://localhost:8080/"
        },
        "outputId": "98b09657-0ced-4bfe-ded5-6fd380c5bac6"
      },
      "execution_count": 3,
      "outputs": [
        {
          "output_type": "stream",
          "name": "stdout",
          "text": [
            "what is the temperature today6789\n",
            "it raining outside?yes\n",
            "I suggest wearing sunscreen\n"
          ]
        }
      ]
    },
    {
      "cell_type": "markdown",
      "source": [
        "2. **Movie Night:**\n",
        "   - Ask the user if they like action movies and if they like romantic movies.\n",
        "   - Recommend a movie based on their preferences:\n",
        "     - Action and romance: \"Mr. & Mrs. Smith\",\n",
        "     - Only action: \"Die Hard\",\n",
        "     - Only romance: \"Pride and Prejudice\",\n",
        "     - Neither: \"Try watching a documentary!\"\n",
        "\n"
      ],
      "metadata": {
        "id": "hne5hxgMDj0i"
      }
    },
    {
      "cell_type": "code",
      "source": [
        "#Ex2\n",
        "like_movie=input(\"do you like action movies or romantic movies\")\n",
        "\n",
        "if like_movie == \"Action and romance\":\n",
        "  print(\"go to watch Mr. & Mrs. Smith\")\n",
        "elif like_movie == \"action\":\n",
        "  print(\"Die Hard\")\n",
        "elif like_movie == \"romance\":\n",
        "  print(\"Pride and Prejudice\")\n",
        "else:\n",
        "  print(\"Try watching a documentary!\")"
      ],
      "metadata": {
        "id": "m13PVPajDlwd",
        "colab": {
          "base_uri": "https://localhost:8080/"
        },
        "outputId": "10d28ff9-1ee3-4aef-fd7a-922cef493cf7"
      },
      "execution_count": 7,
      "outputs": [
        {
          "output_type": "stream",
          "name": "stdout",
          "text": [
            "do you like action movies or romantic moviesneither\n",
            "Try watching a documentary!\n"
          ]
        }
      ]
    },
    {
      "cell_type": "markdown",
      "source": [
        "3. **Eligibility for a Credit Card:**\n",
        "   - Ask the user for their age and monthly salary.\n",
        "   - If they are over 18 and earn more than $1,000 per month, inform them they are eligible for a credit card.\n"
      ],
      "metadata": {
        "id": "2DUNWDlsDmzl"
      }
    },
    {
      "cell_type": "code",
      "source": [
        "#Ex3\n",
        "age=float(input(\"type your age\"))\n",
        "mon_salary=float(input(\"type your monthly salary\"))\n",
        "\n",
        "if age >= 18 and mon_salary > 1000:\n",
        "  print(\"you are eligible for a credit card\")\n",
        "else:\n",
        "  print(\"get out\")\n"
      ],
      "metadata": {
        "id": "KiuF2ByZDoZG",
        "colab": {
          "base_uri": "https://localhost:8080/"
        },
        "outputId": "869ef9fe-a797-4860-9491-bfb479f42932"
      },
      "execution_count": 9,
      "outputs": [
        {
          "output_type": "stream",
          "name": "stdout",
          "text": [
            "type your age18\n",
            "type your monthly salary10000\n",
            "you are eligible for a credit card\n"
          ]
        }
      ]
    },
    {
      "cell_type": "markdown",
      "source": [
        "\n",
        "4. **Nested Age Bracket Classifier:**\n",
        "   - Ask the user for their age and gender.\n",
        "   - Classify them into 'Young/Mature Male/Female' using nested conditional statements.\n"
      ],
      "metadata": {
        "id": "0p0RmJMKDpdG"
      }
    },
    {
      "cell_type": "code",
      "source": [
        "#Ex4\n",
        "age=int(input(\"what is your age?\"))\n",
        "gender=input(\"what is your gender?\")\n",
        "\n",
        "if age > 50 and gender == \"male\":\n",
        "  print(\"Mature Male\")\n",
        "elif age > 50 and gender == \"female\":\n",
        "  print(\"Mature Female\")\n",
        "else:\n",
        "  print(\"Young\")"
      ],
      "metadata": {
        "id": "QSi5-aToDrnK",
        "colab": {
          "base_uri": "https://localhost:8080/"
        },
        "outputId": "ae6f3c53-cd6b-46bc-a8e2-142a37452656"
      },
      "execution_count": 12,
      "outputs": [
        {
          "output_type": "stream",
          "name": "stdout",
          "text": [
            "what is your age?53\n",
            "what is your gender?male\n",
            "Mature Male\n"
          ]
        }
      ]
    },
    {
      "cell_type": "markdown",
      "source": [
        "\n",
        "5. **Weekend Activity Planner:**\n",
        "   - Ask the user if it's a weekend and if the weather is good.\n",
        "   - Provide activity suggestions based on their answers:\n",
        "     - Weekend and good weather: \"Go for a picnic!\",\n",
        "     - Weekend and bad weather: \"Maybe watch a movie at home?\",\n",
        "     - Weekday and good weather: \"Don't forget your sunglasses on your way to work!\",\n",
        "     - Weekday and bad weather: \"Take an umbrella today.\""
      ],
      "metadata": {
        "id": "tyG7h84BDsrX"
      }
    },
    {
      "cell_type": "code",
      "source": [
        "#Ex5\n",
        "it_weekend=input(\"is today weekend, yes or no?\")\n",
        "weather=input(\"is today weather good or bad\")\n",
        "if it_weekend == \"yes\" and weather == \"good\":\n",
        "  print(\"Go for a picnic!\")\n",
        "elif it_weekend == \"yes\" and weather == \"bad\":\n",
        "  print(\"Maybe watch a movie at home?\")\n",
        "elif it_weekend == \"no\" and weather == \"good\":\n",
        "  print(\"Don't forget your sunglasses on your way to work!\")\n",
        "else:\n",
        "  print(\"Take an umbrella today.\")"
      ],
      "metadata": {
        "id": "7q-ze3tCDtgQ",
        "colab": {
          "base_uri": "https://localhost:8080/"
        },
        "outputId": "62424328-2d64-49fb-b74e-6d7cbfd0f6ca"
      },
      "execution_count": 13,
      "outputs": [
        {
          "output_type": "stream",
          "name": "stdout",
          "text": [
            "is today weekend, yes or no?yes\n",
            "is today weather good or badbad\n",
            "Maybe watch a movie at home?\n"
          ]
        }
      ]
    }
  ]
}