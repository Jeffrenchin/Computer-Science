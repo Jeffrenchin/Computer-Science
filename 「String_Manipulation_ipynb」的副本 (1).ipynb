{
  "nbformat": 4,
  "nbformat_minor": 0,
  "metadata": {
    "colab": {
      "provenance": []
    },
    "kernelspec": {
      "name": "python3",
      "display_name": "Python 3"
    },
    "language_info": {
      "name": "python"
    }
  },
  "cells": [
    {
      "cell_type": "markdown",
      "source": [
        "### **String Manipulation: Concatenation and Repetition**\n",
        "\n",
        "**String Concatenation:**\n",
        "- **Definition:** Combining two or more strings end-to-end.\n",
        "- **Operator:** The `+` operator is used for string concatenation.\n",
        "- **Example:**\n",
        "  ```python\n",
        "  first_name = \"John\"\n",
        "  last_name = \"Doe\"\n",
        "  full_name = first_name + \" \" + last_name  # Results in \"John Doe\"\n",
        "  ```\n",
        "\n",
        "**String Repetition:**\n",
        "- **Definition:** Repeating a string multiple times.\n",
        "- **Operator:** The `*` operator is used for string repetition.\n",
        "- **Example:**\n",
        "  ```python\n",
        "  word = \"echo\"\n",
        "  repeated_word = word * 3  # Results in \"echoechoecho\"\n",
        "  ```"
      ],
      "metadata": {
        "id": "XP9wGbNUyyQw"
      }
    },
    {
      "cell_type": "markdown",
      "source": [
        "**Practice:**\n",
        "1. **Fruit Salad:** Ask the user for their two favorite fruits. Concatenate them to form a new fruit name.\n",
        "\n"
      ],
      "metadata": {
        "id": "1-CbJq8Ey6zA"
      }
    },
    {
      "cell_type": "code",
      "source": [
        "#Ex1\n",
        "first_fruits=input(\"type your favorite fruit\")\n",
        "second_fruits=input(\"type your second favorite fruit\")\n",
        "\n",
        "salad=first_fruits+\"\"+second_fruits\n",
        "print(salad)"
      ],
      "metadata": {
        "id": "aamagxLxy-Yj",
        "colab": {
          "base_uri": "https://localhost:8080/"
        },
        "outputId": "dc40d246-8870-44d3-afb8-084dd5381d52"
      },
      "execution_count": null,
      "outputs": [
        {
          "output_type": "stream",
          "name": "stdout",
          "text": [
            "type your favorite fruitmango\n",
            "type your second favorite fruitapple\n",
            "mangoapple\n"
          ]
        }
      ]
    },
    {
      "cell_type": "markdown",
      "source": [
        "\\\n",
        "2. **Echo Chamber:** Ask the user for a word and a number. Repeat the word as many times as the number they've provided."
      ],
      "metadata": {
        "id": "sXAvgbTCzAs-"
      }
    },
    {
      "cell_type": "code",
      "source": [
        "#Ex2\n",
        "word=input(\"type a word\")\n",
        "number_str=int(input(\"type a number\"))\n",
        "if number_str >= 0:\n",
        "    repeated_word = word*number_str\n",
        "    print(\"Result:\", repeated_word)\n",
        "else:\n",
        "  print(\"type postive number:\")\n",
        "\n"
      ],
      "metadata": {
        "id": "otlrxyquzCrb",
        "colab": {
          "base_uri": "https://localhost:8080/"
        },
        "outputId": "b1134726-cd1f-4f00-97a2-76a77c4f1dc9"
      },
      "execution_count": null,
      "outputs": [
        {
          "output_type": "stream",
          "name": "stdout",
          "text": [
            "type a wordsdfghj\n",
            "type a number5\n",
            "Result: sdfghjsdfghjsdfghjsdfghjsdfghj\n"
          ]
        }
      ]
    },
    {
      "cell_type": "markdown",
      "source": [
        "\n",
        "3. **Full Name Formatter:** Ask the user for their first name, middle name, and last name. Display their full name by concatenating these strings."
      ],
      "metadata": {
        "id": "LqkkcBxuzERf"
      }
    },
    {
      "cell_type": "code",
      "source": [
        "#Ex3\n",
        "first_name=input(\"type your first name\")\n",
        "middle_name=input(\"type your middle name\")\n",
        "last_name=input(\"type your last name\")\n",
        "\n",
        "name=first_name+middle_name+last_name\n",
        "\n",
        "print(name)"
      ],
      "metadata": {
        "id": "pTtJKK9dzFRp",
        "colab": {
          "base_uri": "https://localhost:8080/"
        },
        "outputId": "143168f7-fa42-409c-ee26-aa7eaca130ec"
      },
      "execution_count": null,
      "outputs": [
        {
          "output_type": "stream",
          "name": "stdout",
          "text": [
            "type your first namejeff\n",
            "type your middle nameren\n",
            "type your last namehuang\n",
            "jeffrenhuang\n"
          ]
        }
      ]
    },
    {
      "cell_type": "markdown",
      "source": [
        "### **Basic String Methods**\n",
        "\n",
        "**String Methods:**\n",
        "- **Definition:** Built-in functions in Python that can be called on a string to perform specific operations.\n",
        "- **Common Methods:**\n",
        "  - `upper()`: Converts the string to uppercase.\n",
        "  - `lower()`: Converts the string to lowercase.\n",
        "  - `title()`: Converts the string to title case (first letter of each word is capitalized).\n",
        "  - `len()`: Returns the length of the string.\n",
        "\n",
        "**String Slicing and Indexing:**\n",
        "- **Indexing:** Accessing a single character in a string using its position. Python string indices start at 0.\n",
        "  ```python\n",
        "  word = \"python\"\n",
        "  first_letter = word[0]  # Results in \"p\"\n",
        "  ```\n",
        "- **Slicing:** Accessing a range of characters in a string.\n",
        "  ```python\n",
        "  word = \"python\"\n",
        "  slice_word = word[1:4]  # Results in \"yth\"\n",
        "  ```\n",
        "\n",
        "\n"
      ],
      "metadata": {
        "id": "PbFzoj9EzHCn"
      }
    },
    {
      "cell_type": "markdown",
      "source": [
        "**Practice:**\n",
        "1. **Name Formatter:**\n",
        "   - Ask the user for their full name.\n",
        "   - Display their name in uppercase, lowercase, and title case.\n",
        "   - Show the length of their name."
      ],
      "metadata": {
        "id": "PqvCHbWkzbcK"
      }
    },
    {
      "cell_type": "code",
      "source": [
        "#Ex1\n",
        "name=input(\"type your full name\")\n",
        "\n",
        "\n",
        "\n",
        "print(\"Uppercase:\",name.upper())\n",
        "print(\"Lowercase:\",name.lower())\n",
        "print(\"Title case:\",name.title())\n",
        "\n",
        "\n",
        "name_length = len(name.replace(\" \", \"\"))\n",
        "print(\"Length of name:\", name_length)"
      ],
      "metadata": {
        "id": "gyuRgCP-zZDV",
        "colab": {
          "base_uri": "https://localhost:8080/"
        },
        "outputId": "5d1743d3-bdba-4761-a935-4e3f3056650c"
      },
      "execution_count": null,
      "outputs": [
        {
          "output_type": "stream",
          "name": "stdout",
          "text": [
            "type your full namejeff\n",
            "Uppercase: JEFF\n",
            "Lowercase: jeff\n",
            "Title case: Jeff\n",
            "Length of name: 4\n"
          ]
        }
      ]
    },
    {
      "cell_type": "code",
      "source": [],
      "metadata": {
        "id": "UV6jSKLMTv7_"
      },
      "execution_count": null,
      "outputs": []
    },
    {
      "cell_type": "markdown",
      "source": [
        "2. **Initials Extractor:**\n",
        "   - Ask the user for their first name and last name.\n",
        "   - Display their initials by extracting the first character from both names."
      ],
      "metadata": {
        "id": "m5XX1vRzzd-1"
      }
    },
    {
      "cell_type": "code",
      "source": [
        "#Ex2\n",
        "first_name=input(\"enter your first name\")\n",
        "first_name_character=first_name[0]\n",
        "last_name=input(\"enter your second name\")\n",
        "last_name_character=last_name[0]\n",
        "\n",
        "print(\"first character from both name: \",first_name_character+last_name_character)"
      ],
      "metadata": {
        "id": "0RegpgLazf1R",
        "colab": {
          "base_uri": "https://localhost:8080/"
        },
        "outputId": "6c9e9ad3-5575-4df9-fa96-aaef52ee1473"
      },
      "execution_count": 8,
      "outputs": [
        {
          "output_type": "stream",
          "name": "stdout",
          "text": [
            "enter your first nameiff\n",
            "enter your second namebff\n",
            "first character from both name:  ib\n"
          ]
        }
      ]
    },
    {
      "cell_type": "markdown",
      "source": [
        "*CHALLENGE!!!\n",
        "This is a tough one that requires concepts we have not learnt in class yet!*\n",
        "3. **Secret Code:**\n",
        "   - Ask the user for a word.\n",
        "   - Display the word with every second letter in uppercase and the others in lowercase."
      ],
      "metadata": {
        "id": "moPvuFqJzhNz"
      }
    },
    {
      "cell_type": "code",
      "source": [
        "word = input(\"enter a word: \")\n",
        "\n",
        "x = word[:1].lower()+word[1:2].upper()+word[2:].lower()\n",
        "print(x)\n",
        "\n"
      ],
      "metadata": {
        "id": "Hl77BxQxziQL",
        "colab": {
          "base_uri": "https://localhost:8080/"
        },
        "outputId": "100a576a-1795-4011-f573-d422ac3d19a9"
      },
      "execution_count": 3,
      "outputs": [
        {
          "output_type": "stream",
          "name": "stdout",
          "text": [
            "enter a word: apple\n",
            "aPple\n"
          ]
        }
      ]
    }
  ]
}