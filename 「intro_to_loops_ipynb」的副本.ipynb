{
  "nbformat": 4,
  "nbformat_minor": 0,
  "metadata": {
    "colab": {
      "provenance": []
    },
    "kernelspec": {
      "name": "python3",
      "display_name": "Python 3"
    },
    "language_info": {
      "name": "python"
    }
  },
  "cells": [
    {
      "cell_type": "markdown",
      "source": [
        "\n",
        "### **Introduction to Loops**\n",
        "\n",
        "In programming, loops offer a way to perform a set of instructions repeatedly. They are fundamental for tasks that require the same action to be taken on a series of items, or for actions to be repeated until a certain condition is met.\n",
        "\n",
        "---\n",
        "\n",
        "### **Understanding the `while` Loop and its Applications**\n",
        "\n",
        "The `while` loop executes a block of code as long as a specified condition remains `True`.\n",
        "\n",
        "**Basic Syntax:**\n",
        "```python\n",
        "while condition:\n",
        "    # body of the loop\n",
        "```\n",
        "\n",
        "**Example:**\n",
        "```python\n",
        "count = 0\n",
        "while count < 5:\n",
        "    print(count)\n",
        "    count += 1\n",
        "```\n",
        "\n",
        "In the above example, the loop will print numbers from 0 to 4. The loop continues as long as `count` is less than 5.\n",
        "\n",
        "**Applications:**\n",
        "1. **Repeating an action** until a user decides to quit.\n",
        "2. **Waiting for an external condition** to change (e.g., waiting for user input).\n",
        "3. **Polling:** Checking repeatedly if a resource is available or a task is completed.\n",
        "\n",
        "---\n",
        "\n",
        "### **Creating Counters and Accumulators**\n",
        "\n",
        "**1. Counters:**\n",
        "A counter is a variable that is incremented or decremented with each iteration of a loop.\n",
        "\n",
        "**Example:**\n",
        "```python\n",
        "# Counting how many times a loop runs\n",
        "count = 0\n",
        "while count < 10:\n",
        "    print(\"Loop iteration:\", count)\n",
        "    count += 1\n",
        "```\n",
        "\n",
        "**2. Accumulators:**\n",
        "An accumulator is a variable that collects or accumulates a value over time within a loop.\n",
        "\n",
        "**Example:**\n",
        "```python\n",
        "# Summing numbers from 1 to 5\n",
        "total = 0\n",
        "number = 1\n",
        "while number <= 5:\n",
        "    total += number\n",
        "    number += 1\n",
        "print(\"Total sum:\", total)\n",
        "```\n",
        "\n",
        "In the above example, `total` is an accumulator that collects the sum of numbers from 1 to 5.\n",
        "\n",
        "\n"
      ],
      "metadata": {
        "id": "a2Db_gg2H9l2"
      }
    },
    {
      "cell_type": "code",
      "source": [
        "#Play around with the examples in this cell\n",
        "total = 0\n",
        "number = 1\n",
        "while number <= 5:\n",
        "    total += number\n",
        "    number += 1\n",
        "print(\"Total sum:\", total)"
      ],
      "metadata": {
        "id": "ixvEg1OJI0vm",
        "colab": {
          "base_uri": "https://localhost:8080/"
        },
        "outputId": "492a71b5-49ac-4db2-9a9c-8a428e3d4dc8"
      },
      "execution_count": null,
      "outputs": [
        {
          "output_type": "stream",
          "name": "stdout",
          "text": [
            "Total sum: 15\n"
          ]
        }
      ]
    },
    {
      "cell_type": "markdown",
      "source": [
        "---\n",
        "\n",
        "### **Practice Exercises:**\n",
        "\n",
        "1. **Positive Number Collector:** Ask the user to keep entering numbers. Stop when they enter a negative number and display the sum of all positive numbers entered.\n"
      ],
      "metadata": {
        "id": "icvXf-Q8I4tF"
      }
    },
    {
      "cell_type": "code",
      "source": [
        "#Ex1\n",
        "total=0\n",
        "\n",
        "while True:\n",
        "  ent_num=int(input(\"tyep a number\"))\n",
        "  if ent_num >= 0:\n",
        "    total += ent_num\n",
        "  else:\n",
        "    break\n",
        "print(\"total number:\",total)\n",
        "\n",
        "\n",
        "\n"
      ],
      "metadata": {
        "id": "HWqs6QFuI6Pd",
        "colab": {
          "base_uri": "https://localhost:8080/"
        },
        "outputId": "acd70158-1afb-4049-b909-1842ee3fa12c"
      },
      "execution_count": null,
      "outputs": [
        {
          "output_type": "stream",
          "name": "stdout",
          "text": [
            "tyep a number5\n",
            "tyep a number6\n",
            "tyep a number-1\n",
            "total number: 11\n"
          ]
        }
      ]
    },
    {
      "cell_type": "markdown",
      "source": [
        "2. **Guessing Game:** Think of a number between 1 and 10. Allow the user to guess until they get the right number.\n"
      ],
      "metadata": {
        "id": "-_u-1EvmI8Dj"
      }
    },
    {
      "cell_type": "code",
      "source": [
        "a=7\n",
        "while True:\n",
        "  guess_num= int(input(\"guess a number between 1-10: \"))\n",
        "  if guess_num == a:\n",
        "    print(\"you got it\")\n",
        "    break\n",
        "  else:\n",
        "    print(\"type another one\")\n",
        "\n"
      ],
      "metadata": {
        "id": "pmd2ui8UI9nI",
        "colab": {
          "base_uri": "https://localhost:8080/"
        },
        "outputId": "b3424219-6beb-4b77-ef21-2864aab4a7ac"
      },
      "execution_count": null,
      "outputs": [
        {
          "output_type": "stream",
          "name": "stdout",
          "text": [
            "guess a number between 1-10: 7\n",
            "you got it\n"
          ]
        }
      ]
    },
    {
      "cell_type": "markdown",
      "source": [
        "3. **Exponential Growth:** Given a number, keep multiplying it by 2 until it exceeds 1000. Count how many multiplications were needed.\n"
      ],
      "metadata": {
        "id": "sMHpPBRQI_Kh"
      }
    },
    {
      "cell_type": "code",
      "source": [
        "a=6\n",
        "b=0\n",
        "while True:\n",
        "  a *= 2\n",
        "  b += 1\n",
        "  if a > 1000:\n",
        "    print(\"total multiplications are :\",b)\n",
        "    break"
      ],
      "metadata": {
        "id": "5ueHSVhEJA5S",
        "colab": {
          "base_uri": "https://localhost:8080/"
        },
        "outputId": "d3b43e2a-dff8-4d2f-c72f-98bfdf607125"
      },
      "execution_count": null,
      "outputs": [
        {
          "output_type": "stream",
          "name": "stdout",
          "text": [
            "total multiplications are : 8\n"
          ]
        }
      ]
    },
    {
      "cell_type": "markdown",
      "source": [
        "4. **Password Retry:** Allow a user 3 attempts to enter a correct password.\n"
      ],
      "metadata": {
        "id": "R37qmrpgJCZY"
      }
    },
    {
      "cell_type": "code",
      "source": [
        "pswd=\"jejeje\"\n",
        "b=0\n",
        "while True:\n",
        "  true_pswd=input(\"type pswd\")\n",
        "  b += 1\n",
        "  if b == 3:\n",
        "    break\n",
        "  else:\n",
        "    if true_pswd == pswd:\n",
        "      print(\"nice\")\n",
        "      break\n",
        "    else:\n",
        "      print(\"try again\")\n",
        "print(\"you bad badfghdfg\")\n"
      ],
      "metadata": {
        "id": "-mVz_khOJDt3",
        "colab": {
          "base_uri": "https://localhost:8080/"
        },
        "outputId": "270f8058-d732-43b9-e325-846c7b8d5199"
      },
      "execution_count": null,
      "outputs": [
        {
          "output_type": "stream",
          "name": "stdout",
          "text": [
            "type pswdfghj\n",
            "try again\n",
            "type pswdj\n",
            "try again\n",
            "type pswdh\n",
            "you bad bad\n"
          ]
        }
      ]
    },
    {
      "cell_type": "markdown",
      "source": [
        "5. **Interest Calculator:** If you invest $100 at a 5% annual interest rate, how many years will it take for the money to double using compound interest?\n"
      ],
      "metadata": {
        "id": "xE9VCCIPJEtP"
      }
    },
    {
      "cell_type": "code",
      "source": [
        "a = 100\n",
        "b=0\n",
        "while True:\n",
        "  a *= (0.05+1)\n",
        "  b += 1\n",
        "  if a >= 200:\n",
        "    break\n",
        "print(\"how many years:\",b)"
      ],
      "metadata": {
        "id": "_muBoRqzJGB3",
        "colab": {
          "base_uri": "https://localhost:8080/"
        },
        "outputId": "976aacce-71a7-4a71-d8aa-5107c0635689"
      },
      "execution_count": null,
      "outputs": [
        {
          "output_type": "stream",
          "name": "stdout",
          "text": [
            "how many years: 15\n"
          ]
        }
      ]
    },
    {
      "cell_type": "markdown",
      "source": [
        "6. **Number of Divisors:** For a given number, find out how many divisors it has.\n"
      ],
      "metadata": {
        "id": "UGn7LFPyJHUi"
      }
    },
    {
      "cell_type": "code",
      "source": [
        "giv_num=int(input(\"type a numer: \"))\n",
        "c = 0\n",
        "for i in range(1,giv_num+1):\n",
        "  if giv_num % i == 0:\n",
        "   c += 1\n",
        "print(c)\n",
        "\n"
      ],
      "metadata": {
        "id": "50u_gFOuJJBB",
        "colab": {
          "base_uri": "https://localhost:8080/"
        },
        "outputId": "cb410377-9410-4d81-da94-66b4d9168320"
      },
      "execution_count": 12,
      "outputs": [
        {
          "output_type": "stream",
          "name": "stdout",
          "text": [
            "type a numer: 7\n",
            "2\n"
          ]
        }
      ]
    },
    {
      "cell_type": "markdown",
      "source": [
        "7. **User Input Collector:** Keep asking the user for input until they type \"exit\" or \"quit\".\n"
      ],
      "metadata": {
        "id": "LAoVS7NyJLDl"
      }
    },
    {
      "cell_type": "code",
      "source": [
        "while True:\n",
        "  ask_input = input(\"type something: \")\n",
        "  if ask_input == \"exit\" or ask_input ==\"quit\":\n",
        "    break\n",
        "  else:\n",
        "    print(\"type again\")\n",
        "\n",
        "\n"
      ],
      "metadata": {
        "id": "51EYMHtzJMVE",
        "colab": {
          "base_uri": "https://localhost:8080/"
        },
        "outputId": "5fe12861-d17b-47d6-cba2-35501236b9d8"
      },
      "execution_count": 9,
      "outputs": [
        {
          "name": "stdout",
          "output_type": "stream",
          "text": [
            "type something: fghjk\n",
            "type again\n",
            "type something: exit\n"
          ]
        }
      ]
    },
    {
      "cell_type": "markdown",
      "source": [
        "8. **Factorial Calculator:** Calculate the factorial of a number using a loop.\n"
      ],
      "metadata": {
        "id": "-Bmx7J87JOFD"
      }
    },
    {
      "cell_type": "code",
      "source": [
        "factorial=int(input(\"type a number: \"))\n",
        "total_num=1\n",
        "while True:\n",
        "  total_num *= factorial\n",
        "  factorial -= 1\n",
        "  if factorial == 0:\n",
        "    print(total_num)\n",
        "    break\n",
        "\n"
      ],
      "metadata": {
        "id": "i_Ai-9CpJPf3",
        "colab": {
          "base_uri": "https://localhost:8080/"
        },
        "outputId": "d248143e-ce35-4db0-a030-70a749f02895"
      },
      "execution_count": 7,
      "outputs": [
        {
          "output_type": "stream",
          "name": "stdout",
          "text": [
            "type a number: 5\n",
            "120\n"
          ]
        }
      ]
    },
    {
      "cell_type": "markdown",
      "source": [
        "9. **Fibonacci Sequence:** Generate the first N numbers of the Fibonacci sequence.\n"
      ],
      "metadata": {
        "id": "DC6RN9NGJQpX"
      }
    },
    {
      "cell_type": "code",
      "source": [
        "f_a=int(input(\"how many Fibonacci sequence do you want: \"))\n",
        "a=1\n",
        "b=0\n",
        "c=0\n",
        "while True:\n",
        "  c += 2\n",
        "  a += b\n",
        "  b += a\n",
        "  print(a,b)\n",
        "  if f_a%2 == 0 :\n",
        "    if f_a == c:\n",
        "      break\n",
        "  else:\n",
        "    if f_a-1 == c:\n",
        "      print(a+b)\n",
        "      break\n",
        "\n",
        "\n"
      ],
      "metadata": {
        "id": "6RV7fRW9JR-b",
        "colab": {
          "base_uri": "https://localhost:8080/"
        },
        "outputId": "0a1207ce-127a-4cae-e1fc-30d1fc10cadf"
      },
      "execution_count": 2,
      "outputs": [
        {
          "output_type": "stream",
          "name": "stdout",
          "text": [
            "how many Fibonacci sequence do you want: 12\n",
            "1 1\n",
            "2 3\n",
            "5 8\n",
            "13 21\n",
            "34 55\n",
            "89 144\n"
          ]
        }
      ]
    },
    {
      "cell_type": "markdown",
      "source": [
        "10. **Decreasing Counter:** Start from 100 and count down by sevens. Stop if the number goes negative."
      ],
      "metadata": {
        "id": "dnX8zfHcJTXi"
      }
    },
    {
      "cell_type": "code",
      "source": [
        "a=100\n",
        "while True:\n",
        "  a -= 7\n",
        "  if a < 0:\n",
        "    print(\"last number :\",a)\n",
        "    break\n",
        "\n"
      ],
      "metadata": {
        "id": "2bkZxvmIJUHN",
        "colab": {
          "base_uri": "https://localhost:8080/"
        },
        "outputId": "d4c2e56c-8586-488b-8edb-ce79295ca5bd"
      },
      "execution_count": 66,
      "outputs": [
        {
          "output_type": "stream",
          "name": "stdout",
          "text": [
            "last number : -5\n"
          ]
        }
      ]
    }
  ]
}