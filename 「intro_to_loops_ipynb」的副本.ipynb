{
  "nbformat": 4,
  "nbformat_minor": 0,
  "metadata": {
    "colab": {
      "provenance": [],
      "include_colab_link": true
    },
    "kernelspec": {
      "name": "python3",
      "display_name": "Python 3"
    },
    "language_info": {
      "name": "python"
    }
  },
  "cells": [
    {
      "cell_type": "markdown",
      "metadata": {
        "id": "view-in-github",
        "colab_type": "text"
      },
      "source": [
        "<a href=\"https://colab.research.google.com/github/Jeffrenchin/Computer-Science/blob/main/%E3%80%8Cintro_to_loops_ipynb%E3%80%8D%E7%9A%84%E5%89%AF%E6%9C%AC.ipynb\" target=\"_parent\"><img src=\"https://colab.research.google.com/assets/colab-badge.svg\" alt=\"Open In Colab\"/></a>"
      ]
    },
    {
      "cell_type": "markdown",
      "source": [
        "\n",
        "### **Introduction to Loops**\n",
        "\n",
        "In programming, loops offer a way to perform a set of instructions repeatedly. They are fundamental for tasks that require the same action to be taken on a series of items, or for actions to be repeated until a certain condition is met.\n",
        "\n",
        "---\n",
        "\n",
        "### **Understanding the `while` Loop and its Applications**\n",
        "\n",
        "The `while` loop executes a block of code as long as a specified condition remains `True`.\n",
        "\n",
        "**Basic Syntax:**\n",
        "```python\n",
        "while condition:\n",
        "    # body of the loop\n",
        "```\n",
        "\n",
        "**Example:**\n",
        "```python\n",
        "count = 0\n",
        "while count < 5:\n",
        "    print(count)\n",
        "    count += 1\n",
        "```\n",
        "\n",
        "In the above example, the loop will print numbers from 0 to 4. The loop continues as long as `count` is less than 5.\n",
        "\n",
        "**Applications:**\n",
        "1. **Repeating an action** until a user decides to quit.\n",
        "2. **Waiting for an external condition** to change (e.g., waiting for user input).\n",
        "3. **Polling:** Checking repeatedly if a resource is available or a task is completed.\n",
        "\n",
        "---\n",
        "\n",
        "### **Creating Counters and Accumulators**\n",
        "\n",
        "**1. Counters:**\n",
        "A counter is a variable that is incremented or decremented with each iteration of a loop.\n",
        "\n",
        "**Example:**\n",
        "```python\n",
        "# Counting how many times a loop runs\n",
        "count = 0\n",
        "while count < 10:\n",
        "    print(\"Loop iteration:\", count)\n",
        "    count += 1\n",
        "```\n",
        "\n",
        "**2. Accumulators:**\n",
        "An accumulator is a variable that collects or accumulates a value over time within a loop.\n",
        "\n",
        "**Example:**\n",
        "```python\n",
        "# Summing numbers from 1 to 5\n",
        "total = 0\n",
        "number = 1\n",
        "while number <= 5:\n",
        "    total += number\n",
        "    number += 1\n",
        "print(\"Total sum:\", total)\n",
        "```\n",
        "\n",
        "In the above example, `total` is an accumulator that collects the sum of numbers from 1 to 5.\n",
        "\n",
        "\n"
      ],
      "metadata": {
        "id": "a2Db_gg2H9l2"
      }
    },
    {
      "cell_type": "code",
      "source": [
        "#Play around with the examples in this cell"
      ],
      "metadata": {
        "id": "ixvEg1OJI0vm"
      },
      "execution_count": null,
      "outputs": []
    },
    {
      "cell_type": "markdown",
      "source": [
        "---\n",
        "\n",
        "### **Practice Exercises:**\n",
        "\n",
        "1. **Positive Number Collector:** Ask the user to keep entering numbers. Stop when they enter a negative number and display the sum of all positive numbers entered.\n"
      ],
      "metadata": {
        "id": "icvXf-Q8I4tF"
      }
    },
    {
      "cell_type": "code",
      "source": [
        "total=0\n",
        "ent_num = 0\n",
        "while ent_num >= 0:\n",
        "  ent_num=int(input(\"type a number\"))\n",
        "  total += ent_num\n",
        "total -= ent_num\n",
        "print(\"total number:\",total)\n",
        "\n",
        "\n"
      ],
      "metadata": {
        "id": "HWqs6QFuI6Pd",
        "colab": {
          "base_uri": "https://localhost:8080/"
        },
        "outputId": "777ae976-a87d-4720-8dea-369e0e4ca1dc"
      },
      "execution_count": null,
      "outputs": [
        {
          "output_type": "stream",
          "name": "stdout",
          "text": [
            "type a number2\n",
            "type a number2\n",
            "type a number-1\n",
            "total number: 4\n"
          ]
        }
      ]
    },
    {
      "cell_type": "markdown",
      "source": [
        "2. **Guessing Game:** Think of a number between 1 and 10. Allow the user to guess until they get the right number.\n"
      ],
      "metadata": {
        "id": "-_u-1EvmI8Dj"
      }
    },
    {
      "cell_type": "code",
      "source": [
        "a = 7\n",
        "guess_num = 0\n",
        "while guess_num != a:\n",
        "  guess_num=int(input(\"guess a number between 1-10: \"))\n",
        "\n",
        "print(\"ture\")\n",
        "\n",
        "\n"
      ],
      "metadata": {
        "id": "pmd2ui8UI9nI",
        "colab": {
          "base_uri": "https://localhost:8080/"
        },
        "outputId": "a16cea22-b37e-4788-956f-d1440d7fa39f"
      },
      "execution_count": 20,
      "outputs": [
        {
          "output_type": "stream",
          "name": "stdout",
          "text": [
            "guess a number between 1-10: 6\n",
            "guess a number between 1-10: 7\n",
            "ture\n"
          ]
        }
      ]
    },
    {
      "cell_type": "markdown",
      "source": [
        "3. **Exponential Growth:** Given a number, keep multiplying it by 2 until it exceeds 1000. Count how many multiplications were needed.\n"
      ],
      "metadata": {
        "id": "sMHpPBRQI_Kh"
      }
    },
    {
      "cell_type": "code",
      "source": [
        "a = 0\n",
        "a_num=int(input(\"enter a number\"))\n",
        "while a_num <= 1000:\n",
        "  a_num *= 2\n",
        "  a += 1\n",
        "print(a)"
      ],
      "metadata": {
        "id": "5ueHSVhEJA5S",
        "colab": {
          "base_uri": "https://localhost:8080/"
        },
        "outputId": "eac8ede4-567e-47f7-f77c-0a0fdb485266"
      },
      "execution_count": 24,
      "outputs": [
        {
          "output_type": "stream",
          "name": "stdout",
          "text": [
            "enter a number4\n",
            "8\n"
          ]
        }
      ]
    },
    {
      "cell_type": "markdown",
      "source": [
        "4. **Password Retry:** Allow a user 3 attempts to enter a correct password.\n"
      ],
      "metadata": {
        "id": "R37qmrpgJCZY"
      }
    },
    {
      "cell_type": "code",
      "source": [
        "a = 0\n",
        "p_num = \"15074\"\n",
        "while a < 3:\n",
        "  passw = str(input(\"enter a password: \"))\n",
        "  a += 17\n",
        "  if passw == p_num:\n",
        "    print(\"good\")\n",
        "  else:\n",
        "    print(\"wrong, anain\")"
      ],
      "metadata": {
        "id": "-mVz_khOJDt3",
        "colab": {
          "base_uri": "https://localhost:8080/"
        },
        "outputId": "e6f40174-e212-4d61-8eff-80ec889c90bb"
      },
      "execution_count": 29,
      "outputs": [
        {
          "output_type": "stream",
          "name": "stdout",
          "text": [
            "enter a password: 54321\n",
            "wrong, anain\n",
            "enter a password: 890\n",
            "wrong, anain\n",
            "enter a password: 15074\n",
            "good\n"
          ]
        }
      ]
    },
    {
      "cell_type": "markdown",
      "source": [
        "5. **Interest Calculator:** If you invest $100 at a 5% annual interest rate, how many years will it take for the money to double using compound interest?\n"
      ],
      "metadata": {
        "id": "xE9VCCIPJEtP"
      }
    },
    {
      "cell_type": "code",
      "source": [
        "a=100\n",
        "b=0\n",
        "while a <= 200:\n",
        "  a *= (0.05+1)\n",
        "  b += 1\n",
        "\n",
        "print(\"how many years:\",b)\n"
      ],
      "metadata": {
        "id": "_muBoRqzJGB3",
        "colab": {
          "base_uri": "https://localhost:8080/"
        },
        "outputId": "2faf5ffa-f7f0-4fd2-94f5-acea7d3d016e"
      },
      "execution_count": 39,
      "outputs": [
        {
          "output_type": "stream",
          "name": "stdout",
          "text": [
            "how many years: 15\n"
          ]
        }
      ]
    },
    {
      "cell_type": "markdown",
      "source": [
        "6. **Number of Divisors:** For a given number, find out how many divisors it has.\n"
      ],
      "metadata": {
        "id": "UGn7LFPyJHUi"
      }
    },
    {
      "cell_type": "code",
      "source": [
        "give_num=int(input(\"enter a number: \"))\n",
        "b=0\n",
        "c=0\n",
        "while b < give_num:\n",
        "  b+=1\n",
        "  if give_num % b == 0:\n",
        "    c+=1\n",
        "\n",
        "print(\"how many divisors: \",c)\n"
      ],
      "metadata": {
        "id": "50u_gFOuJJBB",
        "colab": {
          "base_uri": "https://localhost:8080/"
        },
        "outputId": "fe571af1-b7c7-438b-f4f4-2688c57e598c"
      },
      "execution_count": 17,
      "outputs": [
        {
          "output_type": "stream",
          "name": "stdout",
          "text": [
            "enter a number: 6\n",
            "how many divisors:  4\n"
          ]
        }
      ]
    },
    {
      "cell_type": "markdown",
      "source": [
        "7. **User Input Collector:** Keep asking the user for input until they type \"exit\" or \"quit\".\n"
      ],
      "metadata": {
        "id": "LAoVS7NyJLDl"
      }
    },
    {
      "cell_type": "code",
      "source": [
        "type_um=0\n",
        "while type_um != \"exit\" and type_um != \"quit\":\n",
        "  type_um = str(input(\"type some thing: \"))\n",
        "\n"
      ],
      "metadata": {
        "id": "51EYMHtzJMVE",
        "colab": {
          "base_uri": "https://localhost:8080/"
        },
        "outputId": "d2cf5ed7-3ea4-427e-fd5b-f783968cbe11"
      },
      "execution_count": 13,
      "outputs": [
        {
          "name": "stdout",
          "output_type": "stream",
          "text": [
            "type some thing: quit\n"
          ]
        }
      ]
    },
    {
      "cell_type": "markdown",
      "source": [
        "8. **Factorial Calculator:** Calculate the factorial of a number using a loop.\n"
      ],
      "metadata": {
        "id": "-Bmx7J87JOFD"
      }
    },
    {
      "cell_type": "code",
      "source": [
        "n=int(input(\"type a number: \"))\n",
        "c = 0\n",
        "a = 1\n",
        "while c != n:\n",
        "  c += 1\n",
        "  a *= c\n",
        "print(a)\n"
      ],
      "metadata": {
        "id": "i_Ai-9CpJPf3",
        "colab": {
          "base_uri": "https://localhost:8080/"
        },
        "outputId": "daf8ee59-d076-46d7-901c-e0f2284a2c42"
      },
      "execution_count": 28,
      "outputs": [
        {
          "output_type": "stream",
          "name": "stdout",
          "text": [
            "type a number: 3\n",
            "6\n"
          ]
        }
      ]
    },
    {
      "cell_type": "markdown",
      "source": [
        "9. **Fibonacci Sequence:** Generate the first N numbers of the Fibonacci sequence.\n"
      ],
      "metadata": {
        "id": "DC6RN9NGJQpX"
      }
    },
    {
      "cell_type": "code",
      "source": [
        "f_s=int(input(\"what num do you w: \"))\n",
        "a = 1\n",
        "b = 1\n",
        "c = 0\n",
        "d = 1\n",
        "while c != f_s and d != f_s:\n",
        "  print(a, b)\n",
        "  a += b\n",
        "  b += a\n",
        "  if f_s % 2 == 0:\n",
        "    c += 2\n",
        "  else:\n",
        "    d+=2\n",
        "\n",
        "if f_s % 2 != 0:\n",
        "  print(a)\n",
        "\n"
      ],
      "metadata": {
        "id": "6RV7fRW9JR-b",
        "colab": {
          "base_uri": "https://localhost:8080/"
        },
        "outputId": "c8beda22-78f6-46b9-fda0-8c512cd36600"
      },
      "execution_count": 34,
      "outputs": [
        {
          "output_type": "stream",
          "name": "stdout",
          "text": [
            "what num do you w: 4\n",
            "1 1\n",
            "2 3\n"
          ]
        }
      ]
    },
    {
      "cell_type": "markdown",
      "source": [
        "10. **Decreasing Counter:** Start from 100 and count down by sevens. Stop if the number goes negative."
      ],
      "metadata": {
        "id": "dnX8zfHcJTXi"
      }
    },
    {
      "cell_type": "code",
      "source": [
        "a = 100\n",
        "while a > 0:\n",
        "  a -= 7\n",
        "  print(a)\n"
      ],
      "metadata": {
        "id": "2bkZxvmIJUHN",
        "colab": {
          "base_uri": "https://localhost:8080/"
        },
        "outputId": "63f3d29e-cfea-4bd8-a6ae-9a58f0078547"
      },
      "execution_count": 21,
      "outputs": [
        {
          "output_type": "stream",
          "name": "stdout",
          "text": [
            "93\n",
            "86\n",
            "79\n",
            "72\n",
            "65\n",
            "58\n",
            "51\n",
            "44\n",
            "37\n",
            "30\n",
            "23\n",
            "16\n",
            "9\n",
            "2\n",
            "-5\n"
          ]
        }
      ]
    }
  ]
}